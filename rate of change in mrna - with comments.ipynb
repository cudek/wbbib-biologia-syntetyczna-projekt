{
 "cells": [
  {
   "cell_type": "code",
   "execution_count": 1,
   "metadata": {},
   "outputs": [],
   "source": [
    "import numpy as np\n",
    "import matplotlib.pyplot as plt\n",
    "from scipy.integrate import odeint\n",
    "\n",
    "\n",
    "%matplotlib inline"
   ]
  },
  {
   "cell_type": "markdown",
   "metadata": {},
   "source": [
    "a)Two equations describing transcription and translation\n",
    "\n",
    "d(mRNA)/dT - rate of change in mRNA\n",
    "k_transcription - transcriptin rate (increase in mRNA)\n",
    "k_mRNA_degradation - mRNA degradation rate\n",
    "mRNA - mRNA concentration\n",
    "\n",
    "d(mRNA)/dT = k_transcr -(k_mRNA_degrad * mRNA)\n",
    "\n",
    "dYmRNA/dT = beta_mRNa - alpha_mRNA * YmRna\n",
    "\n",
    "\n",
    "d(Protein)/dT = (k_translation * mRNA) - (k_prot_degrad * Protein)\n",
    "\n",
    "dYprotein/dT = beta_protein * Ymrna - alpha_protein * Yprotein"
   ]
  },
  {
   "cell_type": "code",
   "execution_count": 39,
   "metadata": {},
   "outputs": [
    {
     "data": {
      "image/png": "[encoded data removed]",
      "text/plain": [
       "<Figure size 720x432 with 1 Axes>"
      ]
     },
     "metadata": {
      "needs_background": "light"
     },
     "output_type": "display_data"
    }
   ],
   "source": [
    "def mRNA_model(y, T, beta_mRNA, beta_protein, alpha_mRNA, alpha_protein, protein):\n",
    "    YmRNA, Yprotein = y\n",
    "    dydT = [beta_mRNA-alpha_mRNA*YmRNA, (beta_protein*1/protein*YmRNA)-(alpha_protein*Yprotein)]\n",
    "    return dydT\n",
    "beta_mRNA = 0.001\n",
    "#strong=0.1medium=0.03weak=0.001\n",
    "beta_protein = 0.1\n",
    "alpha_mRNA = 0.029\n",
    "alpha_protein = 0.031\n",
    "YmRNA = 20\n",
    "Yprotein = 800\n",
    "protein = 55\n",
    "t = np.arange(0, 500, 0.01)\n",
    "y0 = [20, 1000]\n",
    "sol = odeint(mRNA_model, y0, t, args=(beta_mRNA, beta_protein, alpha_mRNA, alpha_protein, protein))\n",
    "\n",
    "# sol\n",
    "plt.figure(figsize=(10,6)) \n",
    "\n",
    "plt.plot(t, sol[:, 0], 'b', label='mRNA(t)')\n",
    "plt.plot(t, sol[:, 1], 'r', label='protein(t)')\n",
    "\n",
    "# x1,x2,y1,y2 = plt.axis()\n",
    "# plt.axis((x1,x2,0,100000))\n",
    "\n",
    "plt.legend()\n",
    "plt.title(\"transcription/translation model\")\n",
    "plt.show()"
   ]
  },
  {
   "cell_type": "markdown",
   "metadata": {},
   "source": [
    "b) Zmiana parametrów układu nie wpływa na mRNA(t).  Przestawianie skrajnych wartości parametrów objawia się zmianą kształtu krzywej protein(t) - maleje wykładniczo lub po gwałtownym wzroście szybko spada do poziomu mRNA lub niewiele wyższego."
   ]
  },
  {
   "cell_type": "markdown",
   "metadata": {},
   "source": [
    "c) W przypadku większości genów równoległa zmiana tempa syntezy i rozpadu wraz ze wzrostem nie pociąga za sobą różnicy w mRNA.\n",
    "Powiązanie między współczynnikiem wzrostu a ekspresją genów było do tej pory analizowane pod kątem poziomów mRNA. Zdecydowana większość genomów wytwarza mRNA, których stężenie nie zmienia się wraz ze wzrostem. Całkowite mRNA nie jest zależne od współczynnika wzrostu.\n",
    "\n",
    "https://www.ncbi.nlm.nih.gov/pmc/articles/PMC5207384/"
   ]
  }
 ],
 "metadata": {
  "kernelspec": {
   "display_name": "Python 3",
   "language": "python",
   "name": "python3"
  },
  "language_info": {
   "codemirror_mode": {
    "name": "ipython",
    "version": 3
   },
   "file_extension": ".py",
   "mimetype": "text/x-python",
   "name": "python",
   "nbconvert_exporter": "python",
   "pygments_lexer": "ipython3",
   "version": "3.8.5"
  }
 },
 "nbformat": 4,
 "nbformat_minor": 4
}
